{
 "cells": [
  {
   "cell_type": "code",
   "execution_count": 1,
   "metadata": {},
   "outputs": [],
   "source": [
    "import pandas as pd\n",
    "from bs4 import BeautifulSoup\n",
    "import requests\n",
    "import json\n",
    "\n",
    "import numpy as np\n",
    "\n",
    "from sklearn.feature_extraction.text import TfidfVectorizer, CountVectorizer\n",
    "from sklearn.datasets import fetch_20newsgroups\n",
    "from sklearn.decomposition import NMF, LatentDirichletAllocation"
   ]
  },
  {
   "cell_type": "code",
   "execution_count": 2,
   "metadata": {},
   "outputs": [],
   "source": [
    "df = pd.read_csv('../data/scotus_file', usecols = ['author', 'html'])"
   ]
  },
  {
   "cell_type": "code",
   "execution_count": 3,
   "metadata": {},
   "outputs": [
    {
     "name": "stdout",
     "output_type": "stream",
     "text": [
      "63948\n",
      "21337\n"
     ]
    }
   ],
   "source": [
    "print(len(df))\n",
    "df.dropna(how=\"any\", inplace=True)\n",
    "print(len(df))"
   ]
  },
  {
   "cell_type": "code",
   "execution_count": 6,
   "metadata": {},
   "outputs": [],
   "source": [
    "def parse_html(raw_html):\n",
    "    return BeautifulSoup(raw_html, \"html.parser\").text\n",
    "df['text'] = df.apply(lambda row: parse_html(row['html']), axis=1)"
   ]
  },
  {
   "cell_type": "code",
   "execution_count": 25,
   "metadata": {},
   "outputs": [],
   "source": [
    "MAX_FEATURES = 1000\n",
    "tf_vectorizer = CountVectorizer(min_df=5, max_df=0.9,\n",
    "                                max_features=MAX_FEATURES,\n",
    "                                lowercase=True, \n",
    "                                token_pattern='[a-zA-Z\\-][a-zA-Z\\-]{2,}',\n",
    "                                stop_words='english')"
   ]
  },
  {
   "cell_type": "code",
   "execution_count": 27,
   "metadata": {},
   "outputs": [],
   "source": [
    "dtm = tf_vectorizer.fit_transform(df['text'])\n",
    "dtm.shape"
   ]
  },
  {
   "cell_type": "code",
   "execution_count": 32,
   "metadata": {},
   "outputs": [],
   "source": [
    "NUM_TOPICS = 10\n",
    "lda_model = LatentDirichletAllocation(n_topics=NUM_TOPICS,\n",
    "                                      max_iter=10,\n",
    "                                      learning_method='online',\n",
    "                                      verbose = 1)"
   ]
  },
  {
   "cell_type": "code",
   "execution_count": 33,
   "metadata": {},
   "outputs": [
    {
     "name": "stderr",
     "output_type": "stream",
     "text": [
      "/usr/local/lib/python3.6/site-packages/sklearn/decomposition/online_lda.py:294: DeprecationWarning: n_topics has been renamed to n_components in version 0.19 and will be removed in 0.21\n",
      "  DeprecationWarning)\n"
     ]
    },
    {
     "name": "stdout",
     "output_type": "stream",
     "text": [
      "iteration: 1 of max_iter: 10\n",
      "iteration: 2 of max_iter: 10\n",
      "iteration: 3 of max_iter: 10\n",
      "iteration: 4 of max_iter: 10\n",
      "iteration: 5 of max_iter: 10\n",
      "iteration: 6 of max_iter: 10\n",
      "iteration: 7 of max_iter: 10\n",
      "iteration: 8 of max_iter: 10\n",
      "iteration: 9 of max_iter: 10\n",
      "iteration: 10 of max_iter: 10\n"
     ]
    }
   ],
   "source": [
    "lda_Z = lda_model.fit_transform(dtm)"
   ]
  },
  {
   "cell_type": "code",
   "execution_count": 35,
   "metadata": {},
   "outputs": [
    {
     "name": "stdout",
     "output_type": "stream",
     "text": [
      "LDA Model:\n",
      "Topic 0:\n",
      "[('said', 83629.916209462099), ('property', 51456.481996489078), ('plaintiff', 38194.600897437915), ('defendant', 35111.800672575737), ('time', 34898.954922122284), ('contract', 34790.798860925803), ('sale', 28888.685257007975), ('law', 27139.334400037966), ('estate', 26646.986353519147), ('money', 24697.830085842852)]\n",
      "Topic 1:\n",
      "[('company', 119990.66082534924), ('railroad', 43307.528321264675), ('said', 40289.243594930595), ('city', 40232.220996844124), ('corporation', 39005.806929502884), ('stock', 30179.779146228415), ('bonds', 28056.690369330754), ('act', 24428.999657301203), ('bank', 23594.082500628054), ('state', 23476.955884713661)]\n",
      "Topic 2:\n",
      "[('act', 103244.06604674198), ('united', 71173.176149062347), ('states', 64489.975021464321), ('congress', 42166.906772862356), ('government', 37424.221606424173), ('section', 35333.361283586069), ('board', 35322.344689089732), ('shall', 32868.656756484226), ('labor', 28330.297832379845), ('union', 28165.831379039217)]\n",
      "Topic 3:\n",
      "[('tax', 70528.712836890802), ('patent', 26990.40357983108), ('property', 25469.527816385962), ('income', 22159.732344858323), ('taxes', 21117.572754650078), ('value', 20434.714787316803), ('use', 18926.70924706661), ('vessel', 18247.091406999345), ('new', 14621.766729248335), ('revenue', 14576.858940529566)]\n",
      "Topic 4:\n",
      "[('commission', 58037.456114372813), ('commerce', 42665.834757990233), ('interstate', 30648.018771218616), ('act', 22858.430788763075), ('rates', 19380.567988120514), ('order', 16298.265255856688), ('business', 16226.13846697368), ('transportation', 15553.368193443537), ('rate', 15332.439648996287), ('carrier', 15137.257531762523)]\n",
      "Topic 5:\n",
      "[('state', 247173.22670090781), ('states', 106471.32336926433), ('law', 79044.790957317804), ('power', 62303.484067314443), ('constitution', 56332.570143391786), ('united', 54139.58474555664), ('laws', 43864.061639959058), ('statute', 34559.175362647336), ('right', 33411.859147365205), ('shall', 31377.947720217584)]\n",
      "Topic 6:\n",
      "[('evidence', 58138.754856720487), ('jury', 57010.926806361596), ('trial', 56404.656346528769), ('petitioner', 42118.543989255384), ('defendant', 38027.801253844511), ('united', 32131.472577260818), ('states', 30478.318951814861), ('criminal', 29580.18549631432), ('rule', 23177.711246836465), ('judge', 22528.987895647941)]\n",
      "Topic 7:\n",
      "[('judgment', 60206.396342553526), ('jurisdiction', 60067.468584268456), ('district', 59988.946380426278), ('action', 44769.727056187709), ('suit', 42588.399742251786), ('courts', 39761.018240402846), ('circuit', 38995.008755635099), ('plaintiff', 34269.449747651677), ('united', 31650.609220633309), ('states', 31063.564221755678)]\n",
      "Topic 8:\n",
      "[('land', 63144.295885771469), ('lands', 47051.448611351458), ('states', 40078.304392626611), ('united', 36455.980275039219), ('act', 36335.726169440371), ('said', 35325.166749074626), ('title', 33363.962160788324), ('grant', 24335.941779313449), ('river', 21865.099304605643), ('right', 21578.673832457182)]\n",
      "Topic 9:\n",
      "[('federal', 67762.124879172785), ('district', 38244.234574418944), ('supra', 34327.193701419899), ('does', 31560.886828870916), ('congress', 29350.253085747561), ('statute', 27385.69900950075), ('appeals', 27333.485001486097), ('state', 25777.222436108565), ('public', 25034.182204605342), ('amendment', 23829.664257162683)]\n"
     ]
    }
   ],
   "source": [
    "def print_topics(model, vectorizer, top_n=10):\n",
    "    for idx, topic in enumerate(model.components_):\n",
    "        print(\"Topic %d:\" % (idx))\n",
    "        print([(vectorizer.get_feature_names()[i], topic[i])\n",
    "                        for i in topic.argsort()[:-top_n - 1:-1]])\n",
    " \n",
    "print(\"LDA Model:\")\n",
    "print_topics(lda_model, tf_vectorizer)"
   ]
  },
  {
   "cell_type": "code",
   "execution_count": null,
   "metadata": {},
   "outputs": [],
   "source": []
  }
 ],
 "metadata": {
  "kernelspec": {
   "display_name": "Python 3",
   "language": "python",
   "name": "python3"
  },
  "language_info": {
   "codemirror_mode": {
    "name": "ipython",
    "version": 3
   },
   "file_extension": ".py",
   "mimetype": "text/x-python",
   "name": "python",
   "nbconvert_exporter": "python",
   "pygments_lexer": "ipython3",
   "version": "3.6.5"
  }
 },
 "nbformat": 4,
 "nbformat_minor": 2
}
