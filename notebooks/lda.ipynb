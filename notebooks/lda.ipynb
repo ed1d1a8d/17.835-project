{
 "cells": [
  {
   "cell_type": "code",
   "execution_count": 1,
   "metadata": {},
   "outputs": [],
   "source": [
    "import numpy as np\n",
    "import pandas as pd\n",
    "\n",
    "from sklearn.feature_extraction.text import TfidfVectorizer, CountVectorizer\n",
    "from sklearn.decomposition import NMF, LatentDirichletAllocation"
   ]
  },
  {
   "cell_type": "code",
   "execution_count": 2,
   "metadata": {},
   "outputs": [],
   "source": [
    "%%time\n",
    "df = pd.read_csv('../data/parsed.csv')"
   ]
  },
  {
   "cell_type": "code",
   "execution_count": 3,
   "metadata": {},
   "outputs": [],
   "source": [
    "MAX_FEATURES = 1000\n",
    "tf_vectorizer = CountVectorizer(min_df=2, max_df=0.5,\n",
    "                                max_features=MAX_FEATURES,\n",
    "                                lowercase=True, \n",
    "                                token_pattern='[a-zA-Z\\-][a-zA-Z\\-]{2,}',\n",
    "                                stop_words='english')"
   ]
  },
  {
   "cell_type": "code",
   "execution_count": 4,
   "metadata": {},
   "outputs": [
    {
     "data": {
      "text/plain": [
       "(21337, 1000)"
      ]
     },
     "execution_count": 4,
     "metadata": {},
     "output_type": "execute_result"
    }
   ],
   "source": [
    "%%time\n",
    "dtm = tf_vectorizer.fit_transform(df['text'])\n",
    "dtm.shape"
   ]
  },
  {
   "cell_type": "code",
   "execution_count": 7,
   "metadata": {},
   "outputs": [],
   "source": [
    "NUM_TOPICS = 10\n",
    "lda_model = LatentDirichletAllocation(n_components=NUM_TOPICS,\n",
    "                                      max_iter=10,\n",
    "                                      learning_method='online',\n",
    "                                      verbose = 1,\n",
    "                                      batch_size=1024,\n",
    "                                      n_jobs = 7)"
   ]
  },
  {
   "cell_type": "code",
   "execution_count": 8,
   "metadata": {},
   "outputs": [
    {
     "name": "stdout",
     "output_type": "stream",
     "text": [
      "iteration: 1 of max_iter: 10\n",
      "iteration: 2 of max_iter: 10\n",
      "iteration: 3 of max_iter: 10\n",
      "iteration: 4 of max_iter: 10\n",
      "iteration: 5 of max_iter: 10\n",
      "iteration: 6 of max_iter: 10\n",
      "iteration: 7 of max_iter: 10\n",
      "iteration: 8 of max_iter: 10\n",
      "iteration: 9 of max_iter: 10\n",
      "iteration: 10 of max_iter: 10\n",
      "CPU times: user 4.61 s, sys: 1.38 s, total: 5.99 s\n",
      "Wall time: 1min 21s\n"
     ]
    }
   ],
   "source": [
    "%%time\n",
    "lda_Z = lda_model.fit_transform(dtm)"
   ]
  },
  {
   "cell_type": "code",
   "execution_count": 9,
   "metadata": {},
   "outputs": [
    {
     "name": "stdout",
     "output_type": "stream",
     "text": [
      "LDA Model:\n",
      "Topic 0:\n",
      "[('vessel', 18354.411887463484), ('damages', 15125.539097584573), ('water', 13716.236381203998), ('indian', 13481.424462219864), ('goods', 12637.991243457387), ('treaty', 11628.810988319379), ('ship', 11040.97555226338), ('policy', 10943.979820111328), ('duty', 10509.470076541193), ('master', 10081.449527080158)]\n",
      "Topic 1:\n",
      "[('tax', 71480.970780716962), ('taxes', 23281.59565647885), ('income', 22754.663564454891), ('value', 17431.072240431495), ('taxation', 15245.086588208766), ('revenue', 14817.675159703347), ('paid', 14688.560995810782), ('commissioner', 12679.944144896193), ('pay', 12147.493656234588), ('year', 11342.304783444488)]\n",
      "Topic 2:\n",
      "[('government', 37351.717498009588), ('constitution', 26791.336874635235), ('criminal', 21101.282826057253), ('officers', 15840.260288488356), ('officer', 15403.203917003797), ('amendment', 15008.026537175185), ('indictment', 13180.64217413888), ('offense', 12982.290607010515), ('search', 12289.190880410939), ('crime', 12078.706094890318)]\n",
      "Topic 3:\n",
      "[('commission', 32753.091776963636), ('patent', 31454.129004593626), ('price', 16967.985123398168), ('gas', 13729.871149911512), ('market', 12836.957038991677), ('invention', 9901.9971508043727), ('oil', 9079.7542002516875), ('competition', 9002.3260542450444), ('trade', 8974.5569248515621), ('prices', 7887.8342042332461)]\n",
      "Topic 4:\n",
      "[('federal', 73599.087578293198), ('board', 41246.5229020064), ('union', 27763.676065833239), ('labor', 27574.436512381224), ('appeals', 27145.262475057658), ('employees', 25402.383125271543), ('supra', 23772.098090131731), ('national', 20105.58716493925), ('cong', 19397.737427385549), ('government', 19395.926354750754)]\n",
      "Topic 5:\n",
      "[('land', 59096.936531849598), ('lands', 44879.541485486654), ('city', 35968.662591056964), ('company', 29652.488272075145), ('title', 28826.597435897358), ('county', 28796.019462067063), ('grant', 25465.149112213778), ('railroad', 19906.237161263787), ('bonds', 16156.639384275721), ('river', 15854.879671123781)]\n",
      "Topic 6:\n",
      "[('defendants', 28277.106116912513), ('writ', 23652.967797063968), ('petition', 20902.320218164976), ('party', 19964.308208585982), ('decree', 19898.492287543617), ('contract', 19597.958247882758), ('trial', 19396.868501590852), ('plaintiffs', 18981.138884222637), ('sup', 18128.621234344489), ('jury', 17405.935872187896)]\n",
      "Topic 7:\n",
      "[('company', 84174.764972103789), ('commerce', 40735.329537665217), ('corporation', 31664.730787251672), ('railroad', 31508.069848891271), ('business', 29363.434548113073), ('interstate', 29330.424581758434), ('commission', 23951.834496508163), ('stock', 18534.526369372259), ('rates', 17913.227714709996), ('sup', 15465.024079320829)]\n",
      "Topic 8:\n",
      "[('trial', 42461.555220114235), ('jury', 40345.74829806816), ('petitioner', 36904.602891473092), ('amendment', 33241.070297399245), ('constitutional', 24294.401176858566), ('supra', 19491.114371142321), ('process', 18203.169113559867), ('respondent', 18066.712474861713), ('federal', 16179.664501166355), ('judge', 15670.760250899029)]\n",
      "Topic 9:\n",
      "[('bank', 40726.866134579257), ('sale', 27247.798594306878), ('estate', 25958.550911973623), ('payment', 21916.805943107891), ('money', 21705.712141138414), ('trust', 20329.372185586399), ('deed', 18988.811571933289), ('paid', 18750.859469243405), ('decree', 18068.075588760097), ('title', 18041.035218167581)]\n"
     ]
    }
   ],
   "source": [
    "def print_topics(model, vectorizer, top_n=10):\n",
    "    for idx, topic in enumerate(model.components_):\n",
    "        print(\"Topic %d:\" % (idx))\n",
    "        print([(vectorizer.get_feature_names()[i], topic[i])\n",
    "                        for i in topic.argsort()[:-top_n - 1:-1]])\n",
    " \n",
    "print(\"LDA Model:\")\n",
    "print_topics(lda_model, tf_vectorizer)"
   ]
  },
  {
   "cell_type": "code",
   "execution_count": null,
   "metadata": {},
   "outputs": [],
   "source": []
  }
 ],
 "metadata": {
  "kernelspec": {
   "display_name": "Python 3",
   "language": "python",
   "name": "python3"
  },
  "language_info": {
   "codemirror_mode": {
    "name": "ipython",
    "version": 3
   },
   "file_extension": ".py",
   "mimetype": "text/x-python",
   "name": "python",
   "nbconvert_exporter": "python",
   "pygments_lexer": "ipython3",
   "version": "3.6.5"
  }
 },
 "nbformat": 4,
 "nbformat_minor": 2
}
