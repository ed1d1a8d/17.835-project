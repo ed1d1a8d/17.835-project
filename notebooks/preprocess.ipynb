{
 "cells": [
  {
   "cell_type": "code",
   "execution_count": 1,
   "metadata": {},
   "outputs": [],
   "source": [
    "from datetime import date\n",
    "import json\n",
    "import os\n",
    "import re\n",
    "\n",
    "import numpy as np\n",
    "import pandas as pd\n",
    "from bs4 import BeautifulSoup\n",
    "import dateutil.parser"
   ]
  },
  {
   "cell_type": "code",
   "execution_count": null,
   "metadata": {},
   "outputs": [],
   "source": [
    "%%time\n",
    "df = pd.read_csv('../data/scotus_file', usecols = ['author', 'html'])"
   ]
  },
  {
   "cell_type": "code",
   "execution_count": null,
   "metadata": {},
   "outputs": [],
   "source": [
    "print(len(df))\n",
    "df.dropna(how=\"any\", inplace=True)\n",
    "print(len(df))"
   ]
  },
  {
   "cell_type": "code",
   "execution_count": null,
   "metadata": {},
   "outputs": [],
   "source": [
    "%%time\n",
    "def parse_html(raw_html):\n",
    "    return BeautifulSoup(raw_html, \"html.parser\").text\n",
    "df['text'] = df.apply(lambda row: parse_html(row['html']), axis=1)"
   ]
  },
  {
   "cell_type": "code",
   "execution_count": 2,
   "metadata": {},
   "outputs": [
    {
     "name": "stdout",
     "output_type": "stream",
     "text": [
      "CPU times: user 9.25 s, sys: 1.18 s, total: 10.4 s\n",
      "Wall time: 10.4 s\n"
     ]
    }
   ],
   "source": [
    "%%time\n",
    "df = pd.read_csv('../data/parsed.csv')"
   ]
  },
  {
   "cell_type": "code",
   "execution_count": 3,
   "metadata": {},
   "outputs": [
    {
     "name": "stdout",
     "output_type": "stream",
     "text": [
      "CPU times: user 464 ms, sys: 96.3 ms, total: 560 ms\n",
      "Wall time: 559 ms\n"
     ]
    }
   ],
   "source": [
    "%%time\n",
    "names = 10000 * [None] # names[i] = (first, middle, last)\n",
    "PEOPLE_ROOT = \"../data/people\"\n",
    "for file_name in os.listdir(PEOPLE_ROOT):\n",
    "    author_idx = int(file_name.split('.')[0])\n",
    "    with open(os.path.join(PEOPLE_ROOT, file_name)) as f:\n",
    "        data = json.load(f)\n",
    "        names[author_idx] = (data['name_first'], data['name_middle'], data['name_last'])\n",
    "names[0:5]"
   ]
  },
  {
   "cell_type": "code",
   "execution_count": 4,
   "metadata": {},
   "outputs": [
    {
     "data": {
      "text/plain": [
       "26"
      ]
     },
     "execution_count": 4,
     "metadata": {},
     "output_type": "execute_result"
    }
   ],
   "source": [
    "def get_idx(author_url): # returns int\n",
    "    return int(author_url.split('/')[-2])\n",
    "get_idx(df['author'][df.index[0]])"
   ]
  },
  {
   "cell_type": "code",
   "execution_count": 5,
   "metadata": {},
   "outputs": [
    {
     "name": "stdout",
     "output_type": "stream",
     "text": [
      "CPU times: user 346 ms, sys: 2.7 ms, total: 349 ms\n",
      "Wall time: 348 ms\n"
     ]
    }
   ],
   "source": [
    "%%time\n",
    "fml = df.apply(lambda row: names[get_idx(row['author'])], axis = 1)\n",
    "first, middle, last = map(list, zip(*fml))\n",
    "last[0:5]"
   ]
  },
  {
   "cell_type": "code",
   "execution_count": 6,
   "metadata": {},
   "outputs": [],
   "source": [
    "df['first'] = first\n",
    "df['middle'] = middle\n",
    "df['last'] = last"
   ]
  },
  {
   "cell_type": "code",
   "execution_count": 7,
   "metadata": {},
   "outputs": [
    {
     "name": "stdout",
     "output_type": "stream",
     "text": [
      "CPU times: user 1.92 s, sys: 11.2 ms, total: 1.93 s\n",
      "Wall time: 1.93 s\n"
     ]
    }
   ],
   "source": [
    "%%time\n",
    "# See https://bear.im/code/parsedatetime/docs/index.html for additional documentation\n",
    "pattern0 = re.compile(\"Decided.*? [0-9]{4}\")\n",
    "prefixes = [\"Decided\", \"Argued\", \"Filed\", \"Submitted\", \"Devided\", \"Ex parte BELT\\.\",\n",
    "            \"Decree entered\", \"Denied\"]\n",
    "pattern1 = re.compile(\"(\" + \"|\".join(prefixes) +\").*? [0-9]{4}\")\n",
    "pattern2 = re.compile(\"Term.* [0-9]{4}\")\n",
    "pattern3 = re.compile(\"\\[.*[0-9], [0-9]{4}\\]\")\n",
    "months = [\"January\", \"February\", \"March\", \"April\", \"May\",\n",
    "          \"June\", \"July\", \"August\", \"September\", \"October\",\n",
    "          \"November\", \"December\",\n",
    "          \"Jan\\.\", \"Feb\\.\", \"Mar\\.\", \"Apr\\.\",\n",
    "          \"Jun\\.\", \"Jul\\.\", \"Aug\\.\", \"Sep\\.\",\n",
    "          \"Oct\\.\", \"Nov\\.\", \"Dec\\.\"]\n",
    "pattern4 = re.compile(\"(\" + \"|\".join(months) +\") ?[0-9]{0,2},  ?[0-9]{4}\")\n",
    "\n",
    "def get_date(text):\n",
    "    search_res = pattern0.search(text, 0, 3000)\n",
    "    if search_res:\n",
    "        raw = search_res.group()[-4:]\n",
    "        raw = \"May 9, \" + raw\n",
    "        try:\n",
    "            return dateutil.parser.parse(raw).date()\n",
    "        except:\n",
    "            return None\n",
    "    \n",
    "    search_res = pattern1.search(text, 0, 3000)\n",
    "    if search_res:\n",
    "        raw = search_res.group()[-4:]\n",
    "        raw = \"May 9, \" + raw\n",
    "        try:\n",
    "            return dateutil.parser.parse(raw).date()\n",
    "        except:\n",
    "            return None\n",
    "    \n",
    "    search_res = pattern2.search(text, 0, 2000)\n",
    "    if search_res:\n",
    "        raw = search_res.group()[-4:]\n",
    "        raw = \"May 9, \" + raw\n",
    "        try:\n",
    "            return dateutil.parser.parse(raw).date()\n",
    "        except:\n",
    "            return None\n",
    "    \n",
    "    search_res = pattern3.search(text, 0, 2000)\n",
    "    if search_res:\n",
    "        raw = search_res.group()[1:-1]\n",
    "        try:\n",
    "            return dateutil.parser.parse(raw).date()\n",
    "        except:\n",
    "            return None\n",
    "        \n",
    "    search_res = pattern4.search(text, 0, 2000)\n",
    "    if search_res:\n",
    "        raw = search_res.group()[-4:]\n",
    "        raw = \"May 9, \" + raw\n",
    "        try:\n",
    "            return dateutil.parser.parse(raw).date()\n",
    "        except:\n",
    "            return None\n",
    "    \n",
    "    \"\"\"\n",
    "    lines = text[0 : 500].split('\\n')\n",
    "    for line in lines:\n",
    "        line = line.replace('[', '')\n",
    "        line = line.replace(']', '')\n",
    "        try:\n",
    "            res = dateutil.parser.parse(line).date()\n",
    "            return res\n",
    "        except:\n",
    "            pass\n",
    "    \"\"\"\n",
    "    \n",
    "    return None\n",
    "\n",
    "df['date'] = df.apply(lambda row: get_date(row['text']), axis=1)\n",
    "#print(get_date(df['text'][df.index[21099]]))"
   ]
  },
  {
   "cell_type": "code",
   "execution_count": 8,
   "metadata": {},
   "outputs": [
    {
     "name": "stdout",
     "output_type": "stream",
     "text": [
      "1 21337\n"
     ]
    }
   ],
   "source": [
    "print(len(df[pd.isna(df.date)]), len(df))"
   ]
  },
  {
   "cell_type": "code",
   "execution_count": 9,
   "metadata": {},
   "outputs": [
    {
     "data": {
      "text/html": [
       "<div>\n",
       "<style scoped>\n",
       "    .dataframe tbody tr th:only-of-type {\n",
       "        vertical-align: middle;\n",
       "    }\n",
       "\n",
       "    .dataframe tbody tr th {\n",
       "        vertical-align: top;\n",
       "    }\n",
       "\n",
       "    .dataframe thead th {\n",
       "        text-align: right;\n",
       "    }\n",
       "</style>\n",
       "<table border=\"1\" class=\"dataframe\">\n",
       "  <thead>\n",
       "    <tr style=\"text-align: right;\">\n",
       "      <th></th>\n",
       "      <th>Unnamed: 0</th>\n",
       "      <th>author</th>\n",
       "      <th>html</th>\n",
       "      <th>text</th>\n",
       "      <th>first</th>\n",
       "      <th>middle</th>\n",
       "      <th>last</th>\n",
       "      <th>date</th>\n",
       "    </tr>\n",
       "  </thead>\n",
       "  <tbody>\n",
       "    <tr>\n",
       "      <th>14070</th>\n",
       "      <td>42197</td>\n",
       "      <td>http://www.courtlistener.com/api/rest/v3/peopl...</td>\n",
       "      <td>&lt;p class=\"case_cite\"&gt;103 U.S. 370&lt;/p&gt;\\n    &lt;p ...</td>\n",
       "      <td>103 U.S. 370\\n103 U.S. 370\\n26 L.Ed. 567\\nNEAL...</td>\n",
       "      <td>John</td>\n",
       "      <td>Marshall</td>\n",
       "      <td>Harlan</td>\n",
       "      <td>None</td>\n",
       "    </tr>\n",
       "  </tbody>\n",
       "</table>\n",
       "</div>"
      ],
      "text/plain": [
       "       Unnamed: 0                                             author  \\\n",
       "14070       42197  http://www.courtlistener.com/api/rest/v3/peopl...   \n",
       "\n",
       "                                                    html  \\\n",
       "14070  <p class=\"case_cite\">103 U.S. 370</p>\\n    <p ...   \n",
       "\n",
       "                                                    text first    middle  \\\n",
       "14070  103 U.S. 370\\n103 U.S. 370\\n26 L.Ed. 567\\nNEAL...  John  Marshall   \n",
       "\n",
       "         last  date  \n",
       "14070  Harlan  None  "
      ]
     },
     "execution_count": 9,
     "metadata": {},
     "output_type": "execute_result"
    }
   ],
   "source": [
    "df[pd.isna(df.date)][0:5]"
   ]
  },
  {
   "cell_type": "code",
   "execution_count": 10,
   "metadata": {},
   "outputs": [],
   "source": [
    "#print(df['date'][14070])\n",
    "#print(df['text'][14070])"
   ]
  },
  {
   "cell_type": "code",
   "execution_count": 11,
   "metadata": {},
   "outputs": [
    {
     "name": "stdout",
     "output_type": "stream",
     "text": [
      "21337\n",
      "21336\n"
     ]
    }
   ],
   "source": [
    "print(len(df))\n",
    "df.dropna(how=\"any\", inplace=True)\n",
    "print(len(df))"
   ]
  },
  {
   "cell_type": "code",
   "execution_count": 13,
   "metadata": {},
   "outputs": [
    {
     "name": "stdout",
     "output_type": "stream",
     "text": [
      "CPU times: user 30.3 s, sys: 1.04 s, total: 31.3 s\n",
      "Wall time: 31.9 s\n"
     ]
    }
   ],
   "source": [
    "%%time\n",
    "df.to_csv('../data/parsedv5.csv')"
   ]
  },
  {
   "cell_type": "code",
   "execution_count": null,
   "metadata": {},
   "outputs": [],
   "source": [
    "sorted(df['date'])[-10:]"
   ]
  },
  {
   "cell_type": "code",
   "execution_count": null,
   "metadata": {},
   "outputs": [],
   "source": [
    "list(filter(lambda iy: iy[1].year <=1792, enumerate(df['date'])))"
   ]
  },
  {
   "cell_type": "code",
   "execution_count": null,
   "metadata": {},
   "outputs": [],
   "source": [
    "print(df['date'][df.index[20263]])\n",
    "print(df['text'][df.index[20263]])"
   ]
  },
  {
   "cell_type": "code",
   "execution_count": null,
   "metadata": {},
   "outputs": [],
   "source": [
    "for i, t in enumerate(df['last']):\n",
    "    if t == 'Roberts':\n",
    "        print(i)"
   ]
  },
  {
   "cell_type": "code",
   "execution_count": null,
   "metadata": {},
   "outputs": [],
   "source": [
    "df['text'][df.index[7290]]"
   ]
  },
  {
   "cell_type": "code",
   "execution_count": null,
   "metadata": {},
   "outputs": [],
   "source": [
    "df.index[7290]"
   ]
  },
  {
   "cell_type": "code",
   "execution_count": null,
   "metadata": {},
   "outputs": [],
   "source": [
    "dateutil.parser.parse(\"[May 17, 1999]\")"
   ]
  },
  {
   "cell_type": "code",
   "execution_count": null,
   "metadata": {},
   "outputs": [],
   "source": []
  }
 ],
 "metadata": {
  "kernelspec": {
   "display_name": "Python 3",
   "language": "python",
   "name": "python3"
  },
  "language_info": {
   "codemirror_mode": {
    "name": "ipython",
    "version": 3
   },
   "file_extension": ".py",
   "mimetype": "text/x-python",
   "name": "python",
   "nbconvert_exporter": "python",
   "pygments_lexer": "ipython3",
   "version": "3.6.5"
  }
 },
 "nbformat": 4,
 "nbformat_minor": 2
}
