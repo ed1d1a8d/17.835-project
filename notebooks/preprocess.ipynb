{
 "cells": [
  {
   "cell_type": "code",
   "execution_count": 1,
   "metadata": {},
   "outputs": [],
   "source": [
    "from datetime import date\n",
    "import json\n",
    "import os\n",
    "import re\n",
    "\n",
    "import numpy as np\n",
    "import pandas as pd\n",
    "from bs4 import BeautifulSoup\n",
    "import dateutil.parser"
   ]
  },
  {
   "cell_type": "code",
   "execution_count": null,
   "metadata": {},
   "outputs": [],
   "source": [
    "%%time\n",
    "df = pd.read_csv('../data/scotus_file', usecols = ['author', 'html'])"
   ]
  },
  {
   "cell_type": "code",
   "execution_count": null,
   "metadata": {},
   "outputs": [],
   "source": [
    "print(len(df))\n",
    "df.dropna(how=\"any\", inplace=True)\n",
    "print(len(df))"
   ]
  },
  {
   "cell_type": "code",
   "execution_count": null,
   "metadata": {},
   "outputs": [],
   "source": [
    "%%time\n",
    "def parse_html(raw_html):\n",
    "    return BeautifulSoup(raw_html, \"html.parser\").text\n",
    "df['text'] = df.apply(lambda row: parse_html(row['html']), axis=1)"
   ]
  },
  {
   "cell_type": "code",
   "execution_count": 2,
   "metadata": {},
   "outputs": [
    {
     "name": "stdout",
     "output_type": "stream",
     "text": [
      "CPU times: user 9.72 s, sys: 1.29 s, total: 11 s\n",
      "Wall time: 11.1 s\n"
     ]
    }
   ],
   "source": [
    "%%time\n",
    "df = pd.read_csv('../data/parsed.csv')"
   ]
  },
  {
   "cell_type": "code",
   "execution_count": 3,
   "metadata": {},
   "outputs": [
    {
     "name": "stdout",
     "output_type": "stream",
     "text": [
      "CPU times: user 870 ms, sys: 542 ms, total: 1.41 s\n",
      "Wall time: 3.55 s\n"
     ]
    }
   ],
   "source": [
    "%%time\n",
    "names = 10000 * [None] # names[i] = (first, middle, last)\n",
    "PEOPLE_ROOT = \"../data/people\"\n",
    "for file_name in os.listdir(PEOPLE_ROOT):\n",
    "    author_idx = int(file_name.split('.')[0])\n",
    "    with open(os.path.join(PEOPLE_ROOT, file_name)) as f:\n",
    "        data = json.load(f)\n",
    "        names[author_idx] = (data['name_first'], data['name_middle'], data['name_last'])\n",
    "names[0:5]"
   ]
  },
  {
   "cell_type": "code",
   "execution_count": 4,
   "metadata": {},
   "outputs": [
    {
     "data": {
      "text/plain": [
       "26"
      ]
     },
     "execution_count": 4,
     "metadata": {},
     "output_type": "execute_result"
    }
   ],
   "source": [
    "def get_idx(author_url): # returns int\n",
    "    return int(author_url.split('/')[-2])\n",
    "get_idx(df['author'][df.index[0]])"
   ]
  },
  {
   "cell_type": "code",
   "execution_count": 5,
   "metadata": {},
   "outputs": [
    {
     "name": "stdout",
     "output_type": "stream",
     "text": [
      "CPU times: user 342 ms, sys: 3.08 ms, total: 345 ms\n",
      "Wall time: 343 ms\n"
     ]
    }
   ],
   "source": [
    "%%time\n",
    "fml = df.apply(lambda row: names[get_idx(row['author'])], axis = 1)\n",
    "first, middle, last = map(list, zip(*fml))\n",
    "last[0:5]"
   ]
  },
  {
   "cell_type": "code",
   "execution_count": 6,
   "metadata": {},
   "outputs": [],
   "source": [
    "df['first'] = first\n",
    "df['middle'] = middle\n",
    "df['last'] = last"
   ]
  },
  {
   "cell_type": "code",
   "execution_count": 7,
   "metadata": {},
   "outputs": [
    {
     "name": "stdout",
     "output_type": "stream",
     "text": [
      "CPU times: user 2.6 s, sys: 5.29 ms, total: 2.61 s\n",
      "Wall time: 2.61 s\n"
     ]
    }
   ],
   "source": [
    "%%time\n",
    "# See https://bear.im/code/parsedatetime/docs/index.html for additional documentation\n",
    "pattern1 = re.compile(\"Decided.*\\n\")\n",
    "pattern2 = re.compile(\"Term, [0-9]{4}.*\\n\")\n",
    "pattern3 = re.compile(\"\\n\\[.*[0-9], [0-9]{4}\\]\\n\")\n",
    "def get_date(text):\n",
    "    search_res = pattern1.search(text, 0, 500)\n",
    "    if search_res:\n",
    "        raw = search_res.group()[7 : -1]\n",
    "        try:\n",
    "            return dateutil.parser.parse(raw).date()\n",
    "        except:\n",
    "            return None\n",
    "    \n",
    "    search_res = pattern2.search(text, 0, 1000)\n",
    "    if search_res:\n",
    "        raw = search_res.group()[6:-1]\n",
    "        raw = \"May 9, \" + raw\n",
    "        try:\n",
    "            return dateutil.parser.parse(raw).date()\n",
    "        except:\n",
    "            return None\n",
    "    \n",
    "    search_res = pattern3.search(text, 0, 1000)\n",
    "    if search_res:\n",
    "        raw = search_res.group()[2:-2]\n",
    "        try:\n",
    "            return dateutil.parser.parse(raw).date()\n",
    "        except:\n",
    "            return None\n",
    "    \n",
    "    lines = text[0 : 500].split('\\n')\n",
    "    for line in lines:\n",
    "        line = line.replace('[', '')\n",
    "        line = line.replace(']', '')\n",
    "        try:\n",
    "            res = dateutil.parser.parse(line).date()\n",
    "            return res\n",
    "        except:\n",
    "            pass\n",
    "    \n",
    "    return None\n",
    "\n",
    "df['date'] = df.apply(lambda row: get_date(row['text']), axis=1)\n",
    "#print(get_date(df['text'][1]))"
   ]
  },
  {
   "cell_type": "code",
   "execution_count": 8,
   "metadata": {},
   "outputs": [
    {
     "data": {
      "text/plain": [
       "244"
      ]
     },
     "execution_count": 8,
     "metadata": {},
     "output_type": "execute_result"
    }
   ],
   "source": [
    "len(df[pd.isna(df.date)])"
   ]
  },
  {
   "cell_type": "code",
   "execution_count": 9,
   "metadata": {},
   "outputs": [
    {
     "name": "stdout",
     "output_type": "stream",
     "text": [
      "21337\n",
      "21093\n"
     ]
    }
   ],
   "source": [
    "print(len(df))\n",
    "df.dropna(how=\"any\", inplace=True)\n",
    "print(len(df))"
   ]
  },
  {
   "cell_type": "code",
   "execution_count": 10,
   "metadata": {},
   "outputs": [
    {
     "name": "stdout",
     "output_type": "stream",
     "text": [
      "CPU times: user 28.5 s, sys: 999 ms, total: 29.5 s\n",
      "Wall time: 30.2 s\n"
     ]
    }
   ],
   "source": [
    "%%time\n",
    "df.to_csv('../data/parsedv4.csv')"
   ]
  },
  {
   "cell_type": "code",
   "execution_count": null,
   "metadata": {},
   "outputs": [],
   "source": [
    "sorted(df['date'])[-1000:]"
   ]
  },
  {
   "cell_type": "code",
   "execution_count": null,
   "metadata": {},
   "outputs": [],
   "source": [
    "list(filter(lambda iy: iy[1].year >=2005, enumerate(df['date'])))"
   ]
  },
  {
   "cell_type": "code",
   "execution_count": null,
   "metadata": {},
   "outputs": [],
   "source": [
    "print(df['date'][df.index[20583]])\n",
    "print(df['text'][df.index[20583]])"
   ]
  },
  {
   "cell_type": "code",
   "execution_count": null,
   "metadata": {},
   "outputs": [],
   "source": [
    "for i, t in enumerate(df['last']):\n",
    "    if t == 'Roberts':\n",
    "        print(i)"
   ]
  },
  {
   "cell_type": "code",
   "execution_count": null,
   "metadata": {},
   "outputs": [],
   "source": [
    "df['text'][df.index[7290]]"
   ]
  },
  {
   "cell_type": "code",
   "execution_count": null,
   "metadata": {},
   "outputs": [],
   "source": [
    "df.index[7290]"
   ]
  },
  {
   "cell_type": "code",
   "execution_count": null,
   "metadata": {},
   "outputs": [],
   "source": [
    "dateutil.parser.parse(\"[May 17, 1999]\")"
   ]
  },
  {
   "cell_type": "code",
   "execution_count": null,
   "metadata": {},
   "outputs": [],
   "source": []
  }
 ],
 "metadata": {
  "kernelspec": {
   "display_name": "Python 3",
   "language": "python",
   "name": "python3"
  },
  "language_info": {
   "codemirror_mode": {
    "name": "ipython",
    "version": 3
   },
   "file_extension": ".py",
   "mimetype": "text/x-python",
   "name": "python",
   "nbconvert_exporter": "python",
   "pygments_lexer": "ipython3",
   "version": "3.6.5"
  }
 },
 "nbformat": 4,
 "nbformat_minor": 2
}
